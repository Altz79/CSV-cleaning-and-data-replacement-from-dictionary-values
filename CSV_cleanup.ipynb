{
 "cells": [
  {
   "cell_type": "markdown",
   "metadata": {},
   "source": [
    "<font size=\"5\">Import modules</font>"
   ]
  },
  {
   "cell_type": "code",
   "execution_count": null,
   "metadata": {},
   "outputs": [],
   "source": [
    "import pandas as pd\n",
    "import numpy as np\n",
    "import time"
   ]
  },
  {
   "cell_type": "markdown",
   "metadata": {},
   "source": [
    "<font size=\"5\">Import data from CSV file</font>"
   ]
  },
  {
   "cell_type": "code",
   "execution_count": 2,
   "metadata": {},
   "outputs": [],
   "source": [
    "df = pd.read_csv(\"final_edited.csv\", error_bad_lines=False, sep=';')"
   ]
  },
  {
   "cell_type": "code",
   "execution_count": 40,
   "metadata": {},
   "outputs": [],
   "source": [
    "df = pd.read_csv(\"all_linkedin_companies_export.csv\", low_memory=False)"
   ]
  },
  {
   "cell_type": "markdown",
   "metadata": {},
   "source": [
    "<font size=\"5\">Import data for our comparison dictionary from CSV file</font>"
   ]
  },
  {
   "cell_type": "code",
   "execution_count": 2,
   "metadata": {},
   "outputs": [],
   "source": [
    "df_voc = pd.read_csv(\"Country_voc.csv\")"
   ]
  },
  {
   "cell_type": "markdown",
   "metadata": {},
   "source": [
    "<font size=\"5\">Print out file columns and check if column contains non-unique values</font>"
   ]
  },
  {
   "cell_type": "code",
   "execution_count": null,
   "metadata": {},
   "outputs": [],
   "source": [
    "df_voc[\"sovereignty\"].value_counts()\n",
    "df_voc[\"primary_language\"].value_counts()"
   ]
  },
  {
   "cell_type": "markdown",
   "metadata": {},
   "source": [
    "<font size=\"5\">Fill empty cells witn N/a and create dictionary for each country name variant. Dictionary keys set to 'country_standard' column</font>"
   ]
  },
  {
   "cell_type": "code",
   "execution_count": 4,
   "metadata": {},
   "outputs": [],
   "source": [
    "df_voc = df_voc.fillna(\"N/a\")"
   ]
  },
  {
   "cell_type": "code",
   "execution_count": 5,
   "metadata": {},
   "outputs": [],
   "source": [
    "country_dict = df_voc.set_index('country_standard').to_dict()[\"iso_country_name_orignial\"]\n",
    "country_dict1 = df_voc.set_index('country_standard').to_dict()[\"iso_country_no_x\"]\n",
    "country_dict2 = df_voc.set_index('country_standard').to_dict()[\"iso_country_cleaned\"]\n",
    "country_dict3 = df_voc.set_index('country_standard').to_dict()[\"official_state_name\"]\n",
    "country_dict4 = df_voc.set_index('country_standard').to_dict()[\"shoprank_country\"]\n",
    "country_dict5 = df_voc.set_index('country_standard').to_dict()[\"ns8_country\"]\n",
    "country_dict6 = df_voc.set_index('country_standard').to_dict()[\"similarweb_export_country\"]\n",
    "country_dict7 = df_voc.set_index('country_standard').to_dict()[\"linkedin_country\"]"
   ]
  },
  {
   "cell_type": "markdown",
   "metadata": {},
   "source": [
    "<font size=\"5\">Combine all dictionaries into one, with the same dictionary key</font>"
   ]
  },
  {
   "cell_type": "code",
   "execution_count": 14,
   "metadata": {},
   "outputs": [],
   "source": [
    "final_dict = {}\n",
    "list_dict = [country_dict, country_dict1, country_dict2, country_dict3, country_dict4, country_dict5, country_dict6, country_dict7]\n",
    "\n",
    "for d in list_dict:\n",
    "    for key in d:\n",
    "        if key not in final_dict:\n",
    "            final_dict[key] = []\n",
    "        final_dict[key].append(d[key])"
   ]
  },
  {
   "cell_type": "markdown",
   "metadata": {},
   "source": [
    "<font size=\"5\">Delete identical values from dictionary values, to make future iterations faster</font>"
   ]
  },
  {
   "cell_type": "code",
   "execution_count": null,
   "metadata": {},
   "outputs": [],
   "source": [
    "final_dict = {k:list(set(j)) for k,j in final_dict.items()}\n",
    "print(final_dict)"
   ]
  },
  {
   "cell_type": "markdown",
   "metadata": {},
   "source": [
    "<font size=\"5\">Create function that will return dictionary key (our needed value for replacement) if one of country name variant will be found in files</font>"
   ]
  },
  {
   "cell_type": "code",
   "execution_count": 16,
   "metadata": {},
   "outputs": [],
   "source": [
    "def get_key(val):\n",
    "    for key, values in final_dict.items():\n",
    "        for item in values:\n",
    "            if val == item:\n",
    "                return key\n",
    "    return \"No_such_country\""
   ]
  },
  {
   "cell_type": "markdown",
   "metadata": {},
   "source": [
    "<font size=\"5\">Quick check if the functions works well</font>"
   ]
  },
  {
   "cell_type": "code",
   "execution_count": 17,
   "metadata": {},
   "outputs": [
    {
     "data": {
      "text/plain": [
       "'Afghanistan'"
      ]
     },
     "execution_count": 17,
     "metadata": {},
     "output_type": "execute_result"
    }
   ],
   "source": [
    "get_key('Afghanistan')"
   ]
  },
  {
   "cell_type": "markdown",
   "metadata": {},
   "source": [
    "<font size=\"5\">Create list from column of file that we want to make replacement in</font>"
   ]
  },
  {
   "cell_type": "code",
   "execution_count": 18,
   "metadata": {},
   "outputs": [],
   "source": [
    "values_list = df['cond_country'].tolist()"
   ]
  },
  {
   "cell_type": "markdown",
   "metadata": {},
   "source": [
    "<font size=\"5\">Iterate throught each row value from selected column and return correct name of country, this names appended to a new list - test_list</font>"
   ]
  },
  {
   "cell_type": "code",
   "execution_count": 20,
   "metadata": {},
   "outputs": [],
   "source": [
    "n = 0\n",
    "test_list = []\n",
    "for i in values_list:\n",
    "    a = get_key(i)\n",
    "    test_list.append(a)\n",
    "    n += 1"
   ]
  },
  {
   "cell_type": "markdown",
   "metadata": {},
   "source": [
    "<font size=\"5\">Create a new column from test_list data</font>"
   ]
  },
  {
   "cell_type": "code",
   "execution_count": 21,
   "metadata": {},
   "outputs": [],
   "source": [
    "df[\"new_values\"] = test_list"
   ]
  },
  {
   "cell_type": "markdown",
   "metadata": {},
   "source": [
    "<font size=\"5\">Make replacement for target column and column of our test_list values - \"new_values\" column. It could be done by for loop and apply() function, but the second variant turns out 50 times faster</font>"
   ]
  },
  {
   "cell_type": "code",
   "execution_count": null,
   "metadata": {},
   "outputs": [],
   "source": [
    "start = time.time()\n",
    "for i in range(len(df)):\n",
    "    if df.new_values[i] != 'No_such_country':\n",
    "        df.server_country[i] = df.new_values[i]\n",
    "end = time.time()-start\n",
    "print(\"Execution time\", end)"
   ]
  },
  {
   "cell_type": "code",
   "execution_count": 22,
   "metadata": {},
   "outputs": [
    {
     "name": "stdout",
     "output_type": "stream",
     "text": [
      "Execution time 255.44512033462524\n"
     ]
    }
   ],
   "source": [
    "start = time.time()\n",
    "def label_row (row):\n",
    "    if row[\"new_values\"] != \"No_such_country\":\n",
    "        return row[\"new_values\"]\n",
    "    else:\n",
    "        return row[\"cond_country\"]\n",
    "\n",
    "df[\"cond_country\"] = df.apply(lambda row: label_row(row), axis=1)\n",
    "end = time.time()-start\n",
    "print(\"Execution time\", end)"
   ]
  },
  {
   "cell_type": "markdown",
   "metadata": {},
   "source": [
    "<font size=\"5\">Quick check if replacement was done correctly. All values should be \"Match\"</font>"
   ]
  },
  {
   "cell_type": "code",
   "execution_count": null,
   "metadata": {},
   "outputs": [],
   "source": [
    "def label_row (row):\n",
    "    if row[\"cond_country\"] == row[\"new_values\"]:\n",
    "        return \"Match\"\n",
    "    else:\n",
    "        return \"NO\"\n",
    "\n",
    "df[\"Match_check\"] = df.apply(lambda row: label_row(row), axis=1)\n",
    "df[\"Match_check\"].value_counts()"
   ]
  },
  {
   "cell_type": "markdown",
   "metadata": {},
   "source": [
    "<font size=\"5\">Drop technically created columns before saving the file</font>"
   ]
  },
  {
   "cell_type": "code",
   "execution_count": 32,
   "metadata": {},
   "outputs": [],
   "source": [
    "df.drop(['new_values'], axis=1, inplace=True)"
   ]
  },
  {
   "cell_type": "code",
   "execution_count": 4,
   "metadata": {},
   "outputs": [],
   "source": [
    "df.drop([\"Match_check\"], axis=1, inplace=True)"
   ]
  },
  {
   "cell_type": "markdown",
   "metadata": {},
   "source": [
    "<font size=\"5\">Saving the file into CSV format</font>"
   ]
  },
  {
   "cell_type": "code",
   "execution_count": 25,
   "metadata": {},
   "outputs": [],
   "source": [
    "df.to_csv(\"all_linkedin_companies_export_done.csv\", index=False)"
   ]
  }
 ],
 "metadata": {
  "kernelspec": {
   "display_name": "Python 3",
   "language": "python",
   "name": "python3"
  },
  "language_info": {
   "codemirror_mode": {
    "name": "ipython",
    "version": 3
   },
   "file_extension": ".py",
   "mimetype": "text/x-python",
   "name": "python",
   "nbconvert_exporter": "python",
   "pygments_lexer": "ipython3",
   "version": "3.7.4"
  }
 },
 "nbformat": 4,
 "nbformat_minor": 2
}
